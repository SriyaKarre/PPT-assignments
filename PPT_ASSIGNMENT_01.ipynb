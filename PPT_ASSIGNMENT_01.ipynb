{
  "nbformat": 4,
  "nbformat_minor": 0,
  "metadata": {
    "colab": {
      "provenance": [],
      "authorship_tag": "ABX9TyO8ytxMEWqwZyK5kirUMz+z",
      "include_colab_link": true
    },
    "kernelspec": {
      "name": "python3",
      "display_name": "Python 3"
    },
    "language_info": {
      "name": "python"
    }
  },
  "cells": [
    {
      "cell_type": "markdown",
      "metadata": {
        "id": "view-in-github",
        "colab_type": "text"
      },
      "source": [
        "<a href=\"https://colab.research.google.com/github/SriyaKarre/PPT-assignments/blob/main/PPT_ASSIGNMENT_01.ipynb\" target=\"_parent\"><img src=\"https://colab.research.google.com/assets/colab-badge.svg\" alt=\"Open In Colab\"/></a>"
      ]
    },
    {
      "cell_type": "markdown",
      "source": [
        "**Q3.** Given a sorted array of distinct integers and a target value, return the index if the target is found. If not, return the index where it would be if it were inserted in order.\n",
        "\n",
        "You must write an algorithm with O(log n) runtime complexity.\n",
        "\n",
        "**Example 1:**\n",
        "Input: nums = [1,3,5,6], target = 5\n",
        "\n",
        "Output: 2\n",
        "\n",
        "</aside>"
      ],
      "metadata": {
        "id": "RPeZTMOILx4m"
      }
    },
    {
      "cell_type": "code",
      "source": [
        "def find_index(arr, n, K):\n",
        "    for i in range(n):\n",
        "        if arr[i] == K:\n",
        "            return i\n",
        "        elif arr[i] > K:\n",
        "            return i\n",
        "    return n\n",
        " \n",
        "# Driver Code\n",
        "arr = [1, 3, 5, 6]\n",
        "n = len(arr)\n",
        "K = 5\n",
        "print(find_index(arr, n, K))"
      ],
      "metadata": {
        "id": "ciu6FrFlLw5q"
      },
      "execution_count": null,
      "outputs": []
    },
    {
      "cell_type": "markdown",
      "source": [
        "**Q4.** You are given a large integer represented as an integer array digits, where each digits[i] is the ith digit of the integer. The digits are ordered from most significant to least significant in left-to-right order. The large integer does not contain any leading 0's.\n",
        "\n",
        "Increment the large integer by one and return the resulting array of digits.\n",
        "\n",
        "**Example 1:**\n",
        "Input: digits = [1,2,3]\n",
        "Output: [1,2,4]\n",
        "\n",
        "**Explanation:** The array represents the integer 123.\n",
        "\n",
        "Incrementing by one gives 123 + 1 = 124.\n",
        "Thus, the result should be [1,2,4].\n",
        "\n",
        "</aside>"
      ],
      "metadata": {
        "id": "6qO5qdtBMBm8"
      }
    },
    {
      "cell_type": "code",
      "source": [
        "def AddOne(digits):\n",
        "    \n",
        "    index = len(digits) - 1\n",
        "    while (index >= 0 and digits[index] == 9):\n",
        "        digits[index] = 0\n",
        "        index -= 1\n",
        "    if (index < 0):\n",
        "        digits.insert(0, 1)\n",
        "    else:\n",
        "        digits[index]+=1\n",
        "  \n",
        "  \n",
        "digits = [1, 7, 8, 7]\n",
        "  \n",
        "AddOne(digits)\n",
        "  \n",
        "for digit in digits:\n",
        "    print(digit, end =' ')"
      ],
      "metadata": {
        "id": "uwYkNz-3L7IX",
        "colab": {
          "base_uri": "https://localhost:8080/"
        },
        "outputId": "6930a382-a2a9-4929-de61-47e65557f8ff"
      },
      "execution_count": 6,
      "outputs": [
        {
          "output_type": "stream",
          "name": "stdout",
          "text": [
            "1 7 8 8 "
          ]
        }
      ]
    },
    {
      "cell_type": "markdown",
      "source": [
        "**Q6.** Given an integer array nums, return true if any value appears at least twice in the array, and return false if every element is distinct.\n",
        "\n",
        "**Example 1:**\n",
        "Input: nums = [1,2,3,1]\n",
        "\n",
        "Output: true\n",
        "\n",
        "</aside>"
      ],
      "metadata": {
        "id": "UkLOv9KpMMxh"
      }
    },
    {
      "cell_type": "code",
      "source": [
        "def checkDuplicates(arr, n, k):\n",
        " \n",
        "    myset = []\n",
        "    for i in range(n):\n",
        "        if arr[i] in myset:\n",
        "            return True\n",
        "        myset.append(arr[i])\n",
        "        if (i >= k):\n",
        "            myset.remove(arr[i - k])\n",
        "    return False\n",
        " \n",
        "# Driver Code\n",
        "if __name__ == \"__main__\":\n",
        "     \n",
        "    arr = [1,2,3,2]\n",
        "    n = len(arr)\n",
        "    if (checkDuplicates(arr, n, 3)):\n",
        "        print(\"True\")\n",
        "    else:\n",
        "        print(\"False\")\n",
        " "
      ],
      "metadata": {
        "id": "_HJ4aSjdMKsD",
        "colab": {
          "base_uri": "https://localhost:8080/"
        },
        "outputId": "d3b2d5e3-c1fa-4c23-d701-09d0bce79695"
      },
      "execution_count": 5,
      "outputs": [
        {
          "output_type": "stream",
          "name": "stdout",
          "text": [
            "True\n"
          ]
        }
      ]
    },
    {
      "cell_type": "markdown",
      "source": [
        "**Q7.** Given an integer array nums, move all 0's to the end of it while maintaining the relative order of the nonzero elements.\n",
        "\n",
        "Note that you must do this in-place without making a copy of the array.\n",
        "\n",
        "**Example 1:**\n",
        "Input: nums = [0,1,0,3,12]\n",
        "Output: [1,3,12,0,0]"
      ],
      "metadata": {
        "id": "c6fRUJdbMW_f"
      }
    },
    {
      "cell_type": "code",
      "source": [
        "def ZerosToEnd(arr, n):\n",
        "    count = 0 \n",
        "    for i in range(n):\n",
        "        if arr[i] != 0:\n",
        "            arr[count] = arr[i]\n",
        "            count+=1\n",
        "    while count < n:\n",
        "        arr[count] = 0\n",
        "        count += 1\n",
        "         \n",
        "# Driver code\n",
        "arr = [1, 9, 8, 4, 0, 0, 2, 7, 0, 6, 0, 9]\n",
        "n = len(arr)\n",
        "ZerosToEnd(arr, n)\n",
        "print(\"all zeros to end of array:\")\n",
        "print(arr)"
      ],
      "metadata": {
        "id": "2gpHhbgFNiBZ",
        "colab": {
          "base_uri": "https://localhost:8080/"
        },
        "outputId": "8e428a08-a5c4-4bf0-e3df-3b71a44445ef"
      },
      "execution_count": 1,
      "outputs": [
        {
          "output_type": "stream",
          "name": "stdout",
          "text": [
            "all zeros to end of array:\n",
            "[1, 9, 8, 4, 2, 7, 6, 9, 0, 0, 0, 0]\n"
          ]
        }
      ]
    }
  ]
}